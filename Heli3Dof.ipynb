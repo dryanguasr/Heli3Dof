{
 "cells": [
  {
   "cell_type": "markdown",
   "metadata": {},
   "source": [
    "# Heli3Dof Demo\n",
    "Basic usage example of the Python model."
   ]
  },
  {
   "cell_type": "code",
   "metadata": {},
   "source": [
    "import numpy as np\n",
    "import matplotlib.pyplot as plt\n",
    "from heli3dof.kinematics import f_kine_heli3dof\n",
    "from heli3dof.visualization import plot_heli3dof\n",
    "from heli3dof.simulation import simulate\n",
    "\n",
    "# initial state and parameters\n",
    "state0 = np.zeros(6)\n",
    "t = np.linspace(0, 3, 300)\n",
    "\n",
    "def controller(t, x):\n",
    "    phi_d = np.pi/4\n",
    "    Kp = 5.0\n",
    "    Kd = 2.5\n",
    "    e = phi_d - x[2]\n",
    "    edot = -x[3]\n",
    "    u = np.array([Kp*e + Kd*edot, Kp*e + Kd*edot])\n",
    "    return u\n",
    "\n",
    "traj, inputs = simulate(state0, controller, t)\n",
    "\n",
    "# plot final configuration\n",
    "pos = f_kine_heli3dof(traj[-1,0], traj[-1,2], traj[-1,4], 0.1, 1.0, 1.0)\n",
    "plot_heli3dof(pos)\n",
    "plt.show()\n"
   ]
  }
 ],
 "metadata": {
  "kernelspec": {
   "display_name": "Python 3",
   "language": "python",
   "name": "python3"
  },
  "language_info": {
   "name": "python",
   "version": "3.x"
  }
 },
 "nbformat": 4,
 "nbformat_minor": 5
}
